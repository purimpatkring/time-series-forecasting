{
 "cells": [
  {
   "cell_type": "code",
   "execution_count": null,
   "metadata": {},
   "outputs": [],
   "source": [
    "import pandas as pd\n",
    "import matplotlib.pyplot as plt\n",
    "from statsmodels.tsa.seasonal import seasonal_decompose\n",
    "\n",
    "pd.options.display.float_format = '${:,.2f}'.format"
   ]
  },
  {
   "cell_type": "code",
   "execution_count": null,
   "metadata": {},
   "outputs": [],
   "source": [
    "## -- Read Data\n",
    "PATH_TO_DATA = 'Airline/airline-passengers.csv'\n",
    "df = pd.read_csv(PATH_TO_DATA, dtype=str)\n",
    "\n",
    "## -- Preprocessing\n",
    "df['Month'] = pd.to_datetime(df['Month'])\n",
    "df['Passengers'] = df['Passengers'].astype('int32')"
   ]
  },
  {
   "cell_type": "code",
   "execution_count": null,
   "metadata": {},
   "outputs": [],
   "source": [
    "## -- Display sample data\n",
    "df.head(12)"
   ]
  },
  {
   "cell_type": "code",
   "execution_count": null,
   "metadata": {},
   "outputs": [],
   "source": [
    "## -- Create a time-series plot to visualize the data\n",
    "plt.figure(figsize=(15, 6))\n",
    "plt.plot(df['Month'], df['Passengers'])\n",
    "plt.title('Airline Passengers')\n",
    "plt.xlabel('Month')\n",
    "plt.ylabel('No. of Passengers')\n",
    "plt.show()"
   ]
  },
  {
   "cell_type": "code",
   "execution_count": null,
   "metadata": {},
   "outputs": [],
   "source": [
    "## -- Set Month as Index\n",
    "df.set_index('Month', inplace=True)\n",
    "\n",
    "## -- Seasonal Decomposition\n",
    "result = seasonal_decompose(df['Passengers'], model='multiplicative')"
   ]
  },
  {
   "cell_type": "code",
   "execution_count": null,
   "metadata": {},
   "outputs": [],
   "source": [
    "## -- Plot the original time series\n",
    "plt.figure(figsize=(12, 8))\n",
    "plt.subplot(4, 1, 1)\n",
    "plt.plot(df['Passengers'], label='Original')\n",
    "plt.legend(loc='upper left')\n",
    "\n",
    "## -- Plot the trend component\n",
    "plt.subplot(4, 1, 2)\n",
    "plt.plot(result.trend, label='Trend')\n",
    "plt.legend(loc='upper left')\n",
    "\n",
    "## -- Plot the seasonal component\n",
    "plt.subplot(4, 1, 3)\n",
    "plt.plot(result.seasonal, label='Seasonal')\n",
    "plt.legend(loc='upper left')\n",
    "\n",
    "## -- Plot the residual component\n",
    "plt.subplot(4, 1, 4)\n",
    "plt.plot(result.resid, label='Residual')\n",
    "plt.legend(loc='upper left')\n",
    "\n",
    "plt.tight_layout()\n",
    "plt.show()"
   ]
  },
  {
   "cell_type": "markdown",
   "metadata": {},
   "source": [
    "## Prophet"
   ]
  },
  {
   "cell_type": "code",
   "execution_count": null,
   "metadata": {},
   "outputs": [],
   "source": [
    "from prophet import Prophet\n",
    "import cmdstanpy\n",
    "cmdstanpy.install_cmdstan(compiler=True)"
   ]
  },
  {
   "cell_type": "code",
   "execution_count": null,
   "metadata": {},
   "outputs": [],
   "source": [
    "## -- Reset index to get Month back to Column\n",
    "df = df.reset_index()\n",
    "\n",
    "## -- Rename columns to the specific name as required by Prophet\n",
    "df = df.rename(columns={'Month': 'ds', 'Passengers': 'y'})"
   ]
  },
  {
   "cell_type": "code",
   "execution_count": null,
   "metadata": {},
   "outputs": [],
   "source": [
    "## -- Fit the Prophet model\n",
    "model = Prophet()\n",
    "model.fit(df)"
   ]
  },
  {
   "cell_type": "code",
   "execution_count": null,
   "metadata": {},
   "outputs": [],
   "source": [
    "## -- Make future date predictions\n",
    "future = model.make_future_dataframe(periods=24, freq='M')\n",
    "forecast = model.predict(future)"
   ]
  },
  {
   "cell_type": "code",
   "execution_count": null,
   "metadata": {},
   "outputs": [],
   "source": [
    "## -- Visualize the forecast\n",
    "fig = model.plot(forecast)\n",
    "## -- Customize the plot, change the color of the future period\n",
    "plt.fill_between(future['ds'][len(df):], forecast['yhat_lower'][len(df):], forecast['yhat_upper'][len(df):], \\\n",
    "                 color='orange', alpha=0.3, label='Future Period')\n",
    "plt.title('Airline Passengers - Forecasting the next 2 years')\n",
    "plt.xlabel('Month')\n",
    "plt.ylabel('No. of Passengers')\n",
    "plt.show()"
   ]
  },
  {
   "cell_type": "markdown",
   "metadata": {},
   "source": [
    "## Evaluation"
   ]
  },
  {
   "cell_type": "code",
   "execution_count": null,
   "metadata": {},
   "outputs": [],
   "source": [
    "import numpy as np\n",
    "from sklearn.metrics import mean_absolute_error, mean_squared_error\n",
    "\n",
    "# Evaluate the predictions\n",
    "y_true = df['y'].values\n",
    "y_pred = forecast['yhat'].values[:len(df)]\n",
    "\n",
    "# Calculate evaluation metrics\n",
    "mae = mean_absolute_error(y_true, y_pred)\n",
    "mse = mean_squared_error(y_true, y_pred)\n",
    "rmse = np.sqrt(mse)\n",
    "\n",
    "print(f'Mean Absolute Error (MAE): {mae:,.2f}')\n",
    "print(f'Mean Squared Error (MSE): {mse:,.2f}')\n",
    "print(f'Root Mean Squared Error (RMSE): {rmse:,.2f}')"
   ]
  },
  {
   "cell_type": "code",
   "execution_count": null,
   "metadata": {},
   "outputs": [],
   "source": [
    "import prophet\n",
    "prophet.__version__"
   ]
  },
  {
   "cell_type": "code",
   "execution_count": null,
   "metadata": {},
   "outputs": [],
   "source": []
  }
 ],
 "metadata": {
  "kernelspec": {
   "display_name": "geo",
   "language": "python",
   "name": "geo"
  },
  "language_info": {
   "codemirror_mode": {
    "name": "ipython",
    "version": 3
   },
   "file_extension": ".py",
   "mimetype": "text/x-python",
   "name": "python",
   "nbconvert_exporter": "python",
   "pygments_lexer": "ipython3",
   "version": "3.7.4"
  }
 },
 "nbformat": 4,
 "nbformat_minor": 2
}
